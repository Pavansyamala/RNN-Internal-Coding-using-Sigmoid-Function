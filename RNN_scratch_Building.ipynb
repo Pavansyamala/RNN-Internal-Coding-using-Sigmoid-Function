{
 "cells": [
  {
   "cell_type": "code",
   "execution_count": 1,
   "id": "3e6bb0a0",
   "metadata": {},
   "outputs": [],
   "source": [
    "import pandas as pd\n",
    "import numpy as np"
   ]
  },
  {
   "cell_type": "code",
   "execution_count": 2,
   "id": "85e92280",
   "metadata": {},
   "outputs": [],
   "source": [
    "data = pd.DataFrame({\n",
    "    'rev' : ['I Loved Food in Restraunt' , 'Food was Good in Restraunt' , 'Bad Food in Restraunt'],\n",
    "    'sent' : [1,1,0]\n",
    "})"
   ]
  },
  {
   "cell_type": "code",
   "execution_count": 3,
   "id": "10cd96aa",
   "metadata": {},
   "outputs": [],
   "source": [
    "words = {\n",
    "    'Loved' : 0 ,\n",
    "    'Food' : 1 ,\n",
    "    'Restraunt' : 2,\n",
    "    'Good' : 3 ,\n",
    "    'Bad' : 4\n",
    "}"
   ]
  },
  {
   "cell_type": "code",
   "execution_count": 4,
   "id": "e510a34d",
   "metadata": {},
   "outputs": [],
   "source": [
    "x_train = []\n",
    "for i in data['rev']:\n",
    "    comp = []\n",
    "    for  j in i.split() :\n",
    "        if words.get(j) is not None :\n",
    "            arr = [0 for i in range(5)]\n",
    "            arr[words.get(j)] = 1 \n",
    "            comp.append(arr)\n",
    "    x_train.append(comp)            "
   ]
  },
  {
   "cell_type": "code",
   "execution_count": 5,
   "id": "365041d4",
   "metadata": {},
   "outputs": [
    {
     "data": {
      "text/plain": [
       "[[[1, 0, 0, 0, 0], [0, 1, 0, 0, 0], [0, 0, 1, 0, 0]],\n",
       " [[0, 1, 0, 0, 0], [0, 0, 0, 1, 0], [0, 0, 1, 0, 0]],\n",
       " [[0, 0, 0, 0, 1], [0, 1, 0, 0, 0], [0, 0, 1, 0, 0]]]"
      ]
     },
     "execution_count": 5,
     "metadata": {},
     "output_type": "execute_result"
    }
   ],
   "source": [
    "x_train"
   ]
  },
  {
   "cell_type": "code",
   "execution_count": 6,
   "id": "c2e39af7",
   "metadata": {},
   "outputs": [],
   "source": [
    "y_train = data['sent'].values"
   ]
  },
  {
   "cell_type": "code",
   "execution_count": 10,
   "id": "467a93ab",
   "metadata": {},
   "outputs": [],
   "source": [
    "class RNN:\n",
    "    def __init__(self , input_shape , nodes):\n",
    "        self.nodes = nodes\n",
    "        self.input_shape = input_shape\n",
    "        self.weights_0 = np.random.randn(input_shape[-1] , nodes)\n",
    "        self.bais_0 = np.random.randint(low = 0 , high = 1 , size = (1,nodes))\n",
    "        self.recurent_weights = np.random.randn(nodes , nodes)\n",
    "        self.weights_1 = np.random.randn(nodes , 1)\n",
    "        self.bias_1 = np.random.randint(low = 0 , high = 1 , size = (1,1))\n",
    "        self.output = None\n",
    "        self.learning_rate = 0.01\n",
    "        self.hidden_output_matrix = None \n",
    "        print(self.recurent_weights)\n",
    "        \n",
    "    def forward_propogation(self , x_train , y_train): \n",
    "        output_arr = []\n",
    "        count = 0\n",
    "        for i in x_train :\n",
    "            hidden_output_matrix = []\n",
    "            self.o = np.array([0 for i in range(self.nodes)]).reshape((1,self.nodes))\n",
    "            hidden_output_matrix.append(self.o)\n",
    "            for j in i :\n",
    "                j = np.array(j).reshape(1,self.input_shape[1])\n",
    "                self.o = 1/(1+np.exp(-(j @ self.weights_0 + self.o @ self.recurent_weights + self.bais_0)))\n",
    "                hidden_output_matrix.append(self.o) \n",
    "            # Hidden Output Matrix \n",
    "            self.hidden_output_matrix = np.array(hidden_output_matrix)\n",
    "            output = 1/(1+np.exp(-(self.o @ self.weights_1 + self.bias_1)))\n",
    "            #  Update the Output Weights \n",
    "            self.weights_1 -= self.learning_rate * (output[0][0] - y_train[count])*(self.o.T)\n",
    "            # Update the Recurent Weights\n",
    "            rsum = 0\n",
    "            n = self.input_shape[0]\n",
    "            for i in range(n , 1 , -1):\n",
    "                if i == n :\n",
    "                    rsum += self.hidden_output_matrix[i]\n",
    "                    prev = np.array([[1]])\n",
    "                else : \n",
    "                    curr = self.hidden_output_matrix[i]@((1-self.hidden_output_matrix[i])@self.recurent_weights).T\n",
    "                    rsum += prev@(curr@self.hidden_output_matrix[i-1])\n",
    "                    prev = curr      \n",
    "            self.recurent_weights -= self.learning_rate *(output[0][0]-y_train[count])*((1-self.o)@self.weights_1)[0][0]*(self.o).T@rsum\n",
    "            output_arr.append(output[0][0])\n",
    "            count += 1 \n",
    "        self.output = output_arr \n",
    "        self.hidden_output_matrix = np.array(hidden_output_matrix)\n",
    "        return output_arr"
   ]
  },
  {
   "cell_type": "code",
   "execution_count": 15,
   "id": "9fd8429f",
   "metadata": {},
   "outputs": [
    {
     "name": "stdout",
     "output_type": "stream",
     "text": [
      "[[-0.28962231  0.55502831  0.26724136]\n",
      " [-0.26202198  0.150994   -1.3362243 ]\n",
      " [-1.38790359 -0.51634478 -0.52872415]]\n"
     ]
    }
   ],
   "source": [
    "model = RNN((3,5) , 3)"
   ]
  },
  {
   "cell_type": "code",
   "execution_count": 16,
   "id": "21d27d56",
   "metadata": {},
   "outputs": [
    {
     "data": {
      "text/plain": [
       "[0.3982589049963428, 0.40998121844232105, 0.40597958329754325]"
      ]
     },
     "execution_count": 16,
     "metadata": {},
     "output_type": "execute_result"
    }
   ],
   "source": [
    "model.forward_propogation(x_train , y_train =y_train)"
   ]
  },
  {
   "cell_type": "code",
   "execution_count": 17,
   "id": "a7008e1b",
   "metadata": {},
   "outputs": [
    {
     "data": {
      "text/plain": [
       "array([[-0.2926718 ,  0.55368811,  0.26913245],\n",
       "       [-0.26458083,  0.14986784, -1.33458662],\n",
       "       [-1.38856256, -0.51663925, -0.52833789]])"
      ]
     },
     "execution_count": 17,
     "metadata": {},
     "output_type": "execute_result"
    }
   ],
   "source": [
    "model.recurent_weights"
   ]
  },
  {
   "cell_type": "code",
   "execution_count": 77,
   "id": "45a26066",
   "metadata": {},
   "outputs": [],
   "source": [
    "from sklearn.feature_extraction.text import CountVectorizer , TfidfVectorizer"
   ]
  },
  {
   "cell_type": "code",
   "execution_count": 78,
   "id": "357b0854",
   "metadata": {},
   "outputs": [],
   "source": [
    "count_vectorizer = CountVectorizer(ngram_range=(1,2))"
   ]
  },
  {
   "cell_type": "code",
   "execution_count": 79,
   "id": "fe3035b7",
   "metadata": {},
   "outputs": [],
   "source": [
    "tf_idf_vectorizer = TfidfVectorizer(ngram_range=(1,2))"
   ]
  },
  {
   "cell_type": "code",
   "execution_count": 82,
   "id": "e98b48c3",
   "metadata": {},
   "outputs": [],
   "source": [
    "x_train_arr = count_vectorizer.fit_transform(data['rev']).toarray()"
   ]
  },
  {
   "cell_type": "code",
   "execution_count": 83,
   "id": "fadf6226",
   "metadata": {},
   "outputs": [],
   "source": [
    "x_train_arr_tf = tf_idf_vectorizer.fit_transform(data['rev']).toarray()"
   ]
  },
  {
   "cell_type": "code",
   "execution_count": 92,
   "id": "615b1f69",
   "metadata": {},
   "outputs": [],
   "source": [
    "model2 = RNN((len(x_train_arr[0]),1) , 30)"
   ]
  },
  {
   "cell_type": "code",
   "execution_count": 94,
   "id": "68b93977",
   "metadata": {},
   "outputs": [
    {
     "data": {
      "text/plain": [
       "[0.9997972345075682, 0.645344939329813, 0.001837730702261347]"
      ]
     },
     "execution_count": 94,
     "metadata": {},
     "output_type": "execute_result"
    }
   ],
   "source": [
    "model2.forward_propogation(x_train_arr)"
   ]
  },
  {
   "cell_type": "code",
   "execution_count": 95,
   "id": "4fdf130d",
   "metadata": {},
   "outputs": [
    {
     "data": {
      "text/plain": [
       "[0.08542275051069173, 0.5714911985863415, 0.00010105932571603357]"
      ]
     },
     "execution_count": 95,
     "metadata": {},
     "output_type": "execute_result"
    }
   ],
   "source": [
    "model2.forward_propogation(x_train_arr_tf)"
   ]
  },
  {
   "cell_type": "code",
   "execution_count": 97,
   "id": "41547d31",
   "metadata": {},
   "outputs": [],
   "source": [
    "from keras.models import Sequential"
   ]
  },
  {
   "cell_type": "code",
   "execution_count": 98,
   "id": "032f2d10",
   "metadata": {},
   "outputs": [],
   "source": [
    "from keras.layers import SimpleRNN , Dense"
   ]
  },
  {
   "cell_type": "code",
   "execution_count": 108,
   "id": "d19d05c0",
   "metadata": {},
   "outputs": [],
   "source": [
    "model3 = Sequential()\n",
    "model3.add(SimpleRNN(30 , input_shape = (len(x_train_arr[0]),1) , return_sequences=True))\n",
    "model3.add(Dense(1,activation='sigmoid'))\n",
    "model3.compile(loss = 'binary_crossentropy' , metrics = ['accuracy'])"
   ]
  },
  {
   "cell_type": "code",
   "execution_count": 115,
   "id": "9c17f360",
   "metadata": {},
   "outputs": [
    {
     "name": "stdout",
     "output_type": "stream",
     "text": [
      "Epoch 1/10\n",
      "1/1 [==============================] - 0s 97ms/step - loss: 0.1914 - accuracy: 0.9762\n",
      "Epoch 2/10\n",
      "1/1 [==============================] - 0s 65ms/step - loss: 0.1859 - accuracy: 1.0000\n",
      "Epoch 3/10\n",
      "1/1 [==============================] - 0s 88ms/step - loss: 0.1808 - accuracy: 1.0000\n",
      "Epoch 4/10\n",
      "1/1 [==============================] - 0s 80ms/step - loss: 0.1759 - accuracy: 1.0000\n",
      "Epoch 5/10\n",
      "1/1 [==============================] - 0s 64ms/step - loss: 0.1714 - accuracy: 1.0000\n",
      "Epoch 6/10\n",
      "1/1 [==============================] - 0s 81ms/step - loss: 0.1670 - accuracy: 1.0000\n",
      "Epoch 7/10\n",
      "1/1 [==============================] - 0s 73ms/step - loss: 0.1629 - accuracy: 1.0000\n",
      "Epoch 8/10\n",
      "1/1 [==============================] - 0s 81ms/step - loss: 0.1590 - accuracy: 1.0000\n",
      "Epoch 9/10\n",
      "1/1 [==============================] - 0s 100ms/step - loss: 0.1552 - accuracy: 1.0000\n",
      "Epoch 10/10\n",
      "1/1 [==============================] - 0s 80ms/step - loss: 0.1517 - accuracy: 1.0000\n"
     ]
    }
   ],
   "source": [
    "import tensorflow as tf\n",
    "tf.config.run_functions_eagerly(True)\n",
    "tf.data.experimental.enable_debug_mode()\n",
    "\n",
    "call_back_history = model3.fit(x_train_arr, data['sent'], epochs=10)\n"
   ]
  },
  {
   "cell_type": "code",
   "execution_count": null,
   "id": "11230ebf",
   "metadata": {},
   "outputs": [],
   "source": [
    "import matplotlib.pyplot asplt"
   ]
  },
  {
   "cell_type": "code",
   "execution_count": 119,
   "id": "35d51c25",
   "metadata": {},
   "outputs": [
    {
     "data": {
      "text/plain": [
       "[0.9761905074119568, 1.0, 1.0, 1.0, 1.0, 1.0, 1.0, 1.0, 1.0, 1.0]"
      ]
     },
     "execution_count": 119,
     "metadata": {},
     "output_type": "execute_result"
    }
   ],
   "source": [
    "plt.plot(call_back_history.history['accuracy']"
   ]
  },
  {
   "cell_type": "code",
   "execution_count": null,
   "id": "e955d142",
   "metadata": {},
   "outputs": [],
   "source": []
  }
 ],
 "metadata": {
  "kernelspec": {
   "display_name": "Python 3 (ipykernel)",
   "language": "python",
   "name": "python3"
  },
  "language_info": {
   "codemirror_mode": {
    "name": "ipython",
    "version": 3
   },
   "file_extension": ".py",
   "mimetype": "text/x-python",
   "name": "python",
   "nbconvert_exporter": "python",
   "pygments_lexer": "ipython3",
   "version": "3.11.5"
  }
 },
 "nbformat": 4,
 "nbformat_minor": 5
}
